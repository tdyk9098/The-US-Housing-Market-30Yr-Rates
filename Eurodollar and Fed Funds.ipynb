{
 "cells": [
  {
   "cell_type": "code",
   "execution_count": 1,
   "id": "44b322e6",
   "metadata": {},
   "outputs": [],
   "source": [
    "import pandas as pd\n",
    "import numpy as np\n",
    "import datetime as dt\n",
    "import seaborn as sns\n",
    "import matplotlib.pyplot as plt\n",
    "import scipy.stats as st\n",
    "%matplotlib inline"
   ]
  },
  {
   "cell_type": "code",
   "execution_count": 2,
   "id": "5a3ec02f",
   "metadata": {},
   "outputs": [],
   "source": [
    "ed = pd.read_csv('Eurodollar.csv', index_col = 0)\n",
    "ff = pd.read_csv('FEDFUNDS.csv', index_col = 0)"
   ]
  },
  {
   "cell_type": "code",
   "execution_count": 3,
   "id": "b9d70f82",
   "metadata": {},
   "outputs": [],
   "source": [
    "# CREATING DICTIONARY\n",
    "dict1 = {0:ed.copy(),1:ff.copy()}\n",
    "# SORTING DFs BY DATE\n",
    "for x in range(len(dict1)):\n",
    "    dict1[x] = dict1[x].reset_index()\n",
    "    dict1[x]['Date'] = pd.to_datetime(dict1[x]['Date'])\n",
    "    dict1[x] = dict1[x].sort_values(by = 'Date',ascending = True).reset_index(drop = True).set_index('Date')"
   ]
  },
  {
   "cell_type": "code",
   "execution_count": 4,
   "id": "c7673dd8",
   "metadata": {},
   "outputs": [],
   "source": [
    "# KEEPING ONLY CLOSE FOR EURODOLLAR\n",
    "dict1[0] = pd.DataFrame(dict1[0]['Close']).reset_index()\n",
    "# REST INDEX\n",
    "dict1[1] = dict1[1].reset_index()"
   ]
  },
  {
   "cell_type": "code",
   "execution_count": 5,
   "id": "201b8804",
   "metadata": {},
   "outputs": [],
   "source": [
    "# CREATING THE 3M PREDICTED FF Column\n",
    "dict1[0]['3M FF'] = 100 - dict1[0]['Close']\n",
    "dict1[0]['Date'] = dict1[0]['Date'].shift(-3)\n",
    "dict1[0] = dict1[0][['Date','3M FF']]"
   ]
  },
  {
   "cell_type": "code",
   "execution_count": 6,
   "id": "1288aeab",
   "metadata": {},
   "outputs": [],
   "source": [
    "# MERGING EFFECTIVE FF, MASTER DF\n",
    "df = dict1[0].merge(dict1[1],how = 'inner', on = 'Date')\n",
    "df = df.set_index('Date')"
   ]
  },
  {
   "cell_type": "code",
   "execution_count": 7,
   "id": "d7abca2e",
   "metadata": {},
   "outputs": [
    {
     "data": {
      "text/plain": [
       "LinregressResult(slope=0.9810956729417384, intercept=-0.25306728864842, rvalue=0.9873831543090911, pvalue=0.0, stderr=0.007632158477678296, intercept_stderr=0.033321243123644866)"
      ]
     },
     "execution_count": 7,
     "metadata": {},
     "output_type": "execute_result"
    }
   ],
   "source": [
    "# CORRELATION / LINEAR REGRESSION\n",
    "st.linregress(x = df['3M FF'], y = df['FEDFUNDS'])"
   ]
  },
  {
   "cell_type": "code",
   "execution_count": 8,
   "id": "5a06c356",
   "metadata": {},
   "outputs": [
    {
     "name": "stdout",
     "output_type": "stream",
     "text": [
      "MSE: 0.28537429742388765\n",
      "RMSE: 0.5342043592333253\n",
      "RRMSE: 0.1720185976340485\n",
      "MAE: 0.35400234192037494\n",
      "RMAE: 0.11399193092266519\n",
      "EV: 0.9745635246025927\n",
      "R2: 0.9606325466586237\n"
     ]
    },
    {
     "data": {
      "image/png": "[encoded data removed]",
      "text/plain": [
       "<Figure size 432x288 with 1 Axes>"
      ]
     },
     "metadata": {
      "needs_background": "light"
     },
     "output_type": "display_data"
    }
   ],
   "source": [
    "# PLOTTING VARIANCE BETWEEN EURODOLLAR AND FF\n",
    "from sklearn import metrics\n",
    "\n",
    "plt.scatter(df['FEDFUNDS'],df['3M FF'])\n",
    "plt.plot(df['FEDFUNDS'],df['FEDFUNDS'],\"r\")\n",
    "plt.xlabel('Actual FF')\n",
    "plt.ylabel('Predicted FF')\n",
    "\n",
    "# EVALUATE THE MODEL LM1\n",
    "print(\"MSE:\",metrics.mean_squared_error (df['FEDFUNDS'],df['3M FF']))\n",
    "print(\"RMSE:\", np.sqrt(metrics.mean_squared_error (df['FEDFUNDS'],df['3M FF'])))\n",
    "print(\"RRMSE:\",np.sqrt(metrics.mean_squared_error (df['FEDFUNDS'],df['3M FF']))/df['FEDFUNDS'].mean())\n",
    "print(\"MAE:\", metrics.mean_absolute_error (df['FEDFUNDS'], df['3M FF']))\n",
    "print(\"RMAE:\", metrics.mean_absolute_error (df['FEDFUNDS'], df['3M FF'])/df['FEDFUNDS'].mean())\n",
    "print(\"EV:\", metrics.explained_variance_score(df['FEDFUNDS'],df['3M FF']))\n",
    "print(\"R2:\", metrics.r2_score(df['FEDFUNDS'],df['3M FF']))"
   ]
  }
 ],
 "metadata": {
  "kernelspec": {
   "display_name": "Python 3 (ipykernel)",
   "language": "python",
   "name": "python3"
  },
  "language_info": {
   "codemirror_mode": {
    "name": "ipython",
    "version": 3
   },
   "file_extension": ".py",
   "mimetype": "text/x-python",
   "name": "python",
   "nbconvert_exporter": "python",
   "pygments_lexer": "ipython3",
   "version": "3.9.7"
  }
 },
 "nbformat": 4,
 "nbformat_minor": 5
}
